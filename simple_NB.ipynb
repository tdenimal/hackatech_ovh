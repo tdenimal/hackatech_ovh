{
 "cells": [
  {
   "cell_type": "code",
   "execution_count": 36,
   "metadata": {},
   "outputs": [],
   "source": [
    "import pandas as pd\n",
    "from sklearn.naive_bayes import MultinomialNB\n",
    "\n",
    "from sklearn.model_selection import train_test_split\n",
    "\n",
    "from nltk.corpus import stopwords\n",
    "\n",
    "\n",
    "from sklearn.feature_extraction.text import CountVectorizer,TfidfVectorizer\n",
    "\n",
    "\n",
    "from sklearn.metrics import plot_confusion_matrix,roc_curve,f1_score,precision_score,recall_score,auc\n",
    "\n",
    "\n",
    "import matplotlib.pyplot as plt"
   ]
  },
  {
   "cell_type": "code",
   "execution_count": 20,
   "metadata": {},
   "outputs": [],
   "source": [
    "#load dataset\n",
    "dataset_amazon = pd.read_csv('./OVH_emotions/sentiment labelled sentences/amazon_cells_labelled.txt',\\\n",
    "                     sep=\"\\t\",\n",
    "                      names=['text', 'label'])\n",
    "\n",
    "dataset_yelp = pd.read_csv('./OVH_emotions/sentiment labelled sentences/yelp_labelled.txt',\\\n",
    "                     sep=\"\\t\",\n",
    "                      names=['text', 'label'])\n",
    "\n",
    "dataset_imdb = pd.read_csv('./OVH_emotions/sentiment labelled sentences/imdb_labelled.txt',\\\n",
    "                     sep=\"\\t\",\n",
    "                      names=['text', 'label'])\n",
    "\n",
    "\n",
    "full_dataset = pd.concat([dataset_amazon,dataset_yelp,dataset_imdb])"
   ]
  },
  {
   "cell_type": "code",
   "execution_count": 21,
   "metadata": {},
   "outputs": [
    {
     "data": {
      "text/plain": [
       "(2748, 2)"
      ]
     },
     "execution_count": 21,
     "metadata": {},
     "output_type": "execute_result"
    }
   ],
   "source": [
    "full_dataset.shape"
   ]
  },
  {
   "cell_type": "code",
   "execution_count": 40,
   "metadata": {},
   "outputs": [
    {
     "data": {
      "text/plain": [
       "<matplotlib.axes._subplots.AxesSubplot at 0x7f24644a3f10>"
      ]
     },
     "execution_count": 40,
     "metadata": {},
     "output_type": "execute_result"
    },
    {
     "data": {
      "image/png": "[encoded data removed]",
      "text/plain": [
       "<Figure size 432x288 with 1 Axes>"
      ]
     },
     "metadata": {
      "needs_background": "light"
     },
     "output_type": "display_data"
    }
   ],
   "source": [
    "#Dataset EDA\n",
    "\n",
    "\n",
    "#Check if dataset classes are imbalanced\n",
    "\n",
    "full_dataset[\"label\"].hist()"
   ]
  },
  {
   "cell_type": "code",
   "execution_count": null,
   "metadata": {},
   "outputs": [],
   "source": [
    "#Dataset is well balanced"
   ]
  },
  {
   "cell_type": "code",
   "execution_count": 22,
   "metadata": {},
   "outputs": [],
   "source": [
    "#Split train/val/test\n",
    "\n",
    "X_trainval, X_test, y_trainval, y_test = train_test_split(full_dataset[\"text\"], \\\n",
    "                                                    full_dataset['label'], \\\n",
    "                                                    test_size=0.2, random_state=42)\n",
    "\n",
    "\n",
    "X_train, X_val, y_train, y_val = train_test_split(full_dataset[\"text\"], \\\n",
    "                                                    full_dataset['label'], \\\n",
    "                                                    test_size=0.1, random_state=42)"
   ]
  },
  {
   "cell_type": "code",
   "execution_count": 26,
   "metadata": {},
   "outputs": [],
   "source": [
    "#Vectorization\n",
    "#Can choose between tfidf / bow / word2vec\n",
    "#Lets test tfidf\n",
    "\n",
    "tfidf = TfidfVectorizer(lowercase=True,\n",
    "                        ngram_range=(1,1),\n",
    "                        max_features=5000,\n",
    "                        stop_words=stopwords.words(\"english\")\n",
    "                       )"
   ]
  },
  {
   "cell_type": "code",
   "execution_count": 31,
   "metadata": {},
   "outputs": [],
   "source": [
    "#Fit / transform train dataset\n",
    "\n",
    "tf_train = tfidf.fit_transform(X_train)\n",
    "\n",
    "#transform test dataset\n",
    "tf_test = tfidf.transform(X_test)"
   ]
  },
  {
   "cell_type": "code",
   "execution_count": 29,
   "metadata": {},
   "outputs": [
    {
     "data": {
      "text/plain": [
       "MultinomialNB(alpha=0.4, class_prior=None, fit_prior=False)"
      ]
     },
     "execution_count": 29,
     "metadata": {},
     "output_type": "execute_result"
    }
   ],
   "source": [
    "#Lets test a simple classifier\n",
    "#Choice between SVM / Naive Bayes / Logistic\n",
    "\n",
    "#Lets test naive bayes\n",
    "\n",
    "#Weight more samples from minor class\n",
    "clf = MultinomialNB(alpha=0.4, class_prior=None, fit_prior=False)\n",
    "clf.fit(tf_train, y_train)"
   ]
  },
  {
   "cell_type": "code",
   "execution_count": 34,
   "metadata": {},
   "outputs": [
    {
     "data": {
      "text/plain": [
       "0.8946395563770795"
      ]
     },
     "execution_count": 34,
     "metadata": {},
     "output_type": "execute_result"
    }
   ],
   "source": [
    "#Lets check model accuracy / f1-score / auc / confusion matrix\n",
    "\n",
    "preds = clf.predict(tf_test)\n",
    "f1_score(y_test,preds)"
   ]
  },
  {
   "cell_type": "code",
   "execution_count": 37,
   "metadata": {},
   "outputs": [
    {
     "name": "stdout",
     "output_type": "stream",
     "text": [
      "Confusion matrix, without normalization\n",
      "[[251  35]\n",
      " [ 22 242]]\n",
      "Normalized confusion matrix\n",
      "[[0.87762238 0.12237762]\n",
      " [0.08333333 0.91666667]]\n"
     ]
    },
    {
     "data": {
      "image/png": "[encoded data removed]",
      "text/plain": [
       "<Figure size 432x288 with 2 Axes>"
      ]
     },
     "metadata": {
      "needs_background": "light"
     },
     "output_type": "display_data"
    },
    {
     "data": {
      "image/png": "[encoded data removed]",
      "text/plain": [
       "<Figure size 432x288 with 2 Axes>"
      ]
     },
     "metadata": {
      "needs_background": "light"
     },
     "output_type": "display_data"
    }
   ],
   "source": [
    "# Plot non-normalized confusion matrix\n",
    "titles_options = [(\"Confusion matrix, without normalization\", None),\n",
    "                  (\"Normalized confusion matrix\", 'true')]\n",
    "for title, normalize in titles_options:\n",
    "    disp = plot_confusion_matrix(clf, tf_test, y_test.to_numpy(),\n",
    "                                 cmap=plt.cm.Blues,\n",
    "                                 normalize=normalize)\n",
    "    disp.ax_.set_title(title)\n",
    "\n",
    "    print(title)\n",
    "    print(disp.confusion_matrix)\n",
    "\n",
    "plt.show()"
   ]
  },
  {
   "cell_type": "code",
   "execution_count": null,
   "metadata": {},
   "outputs": [],
   "source": []
  }
 ],
 "metadata": {
  "kernelspec": {
   "display_name": "Python [conda env:nlp_clean]",
   "language": "python",
   "name": "conda-env-nlp_clean-py"
  },
  "language_info": {
   "codemirror_mode": {
    "name": "ipython",
    "version": 3
   },
   "file_extension": ".py",
   "mimetype": "text/x-python",
   "name": "python",
   "nbconvert_exporter": "python",
   "pygments_lexer": "ipython3",
   "version": "3.7.6"
  }
 },
 "nbformat": 4,
 "nbformat_minor": 2
}
