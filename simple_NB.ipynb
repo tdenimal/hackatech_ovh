{
 "cells": [
  {
   "cell_type": "code",
   "execution_count": 2,
   "metadata": {},
   "outputs": [],
   "source": [
    "import pandas as pd\n",
    "from sklearn.naive_bayes import MultinomialNB"
   ]
  },
  {
   "cell_type": "code",
   "execution_count": 15,
   "metadata": {},
   "outputs": [],
   "source": [
    "#load dataset\n",
    "dataset_amazon = pd.read_csv('./OVH_emotions/sentiment labelled sentences/amazon_cells_labelled.txt',\\\n",
    "                     sep=\"\\t\",\n",
    "                      names=['text', 'label'])\n",
    "\n",
    "dataset_yelp = pd.read_csv('./OVH_emotions/sentiment labelled sentences/yelp_labelled.txt',\\\n",
    "                     sep=\"\\t\",\n",
    "                      names=['text', 'label'])\n",
    "\n",
    "dataset_imdb = pd.read_csv('./OVH_emotions/sentiment labelled sentences/imdb_labelled.txt',\\\n",
    "                     sep=\"\\t\",\n",
    "                      names=['text', 'label'])\n",
    "\n",
    "\n",
    "full_dataset = pd.concat([dataset_amazon,dataset_yelp,dataset_imdb])"
   ]
  },
  {
   "cell_type": "code",
   "execution_count": 16,
   "metadata": {},
   "outputs": [
    {
     "data": {
      "text/plain": [
       "(2748, 2)"
      ]
     },
     "execution_count": 16,
     "metadata": {},
     "output_type": "execute_result"
    }
   ],
   "source": [
    "full_dataset.shape"
   ]
  },
  {
   "cell_type": "code",
   "execution_count": null,
   "metadata": {},
   "outputs": [],
   "source": []
  }
 ],
 "metadata": {
  "kernelspec": {
   "display_name": "Python [conda env:nlp_clean]",
   "language": "python",
   "name": "conda-env-nlp_clean-py"
  },
  "language_info": {
   "codemirror_mode": {
    "name": "ipython",
    "version": 3
   },
   "file_extension": ".py",
   "mimetype": "text/x-python",
   "name": "python",
   "nbconvert_exporter": "python",
   "pygments_lexer": "ipython3",
   "version": "3.7.6"
  }
 },
 "nbformat": 4,
 "nbformat_minor": 2
}
